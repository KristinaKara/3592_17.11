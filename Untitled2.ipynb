{
  "nbformat": 4,
  "nbformat_minor": 0,
  "metadata": {
    "colab": {
      "provenance": [],
      "authorship_tag": "ABX9TyMgw56OwkTkUbUZallxNshT",
      "include_colab_link": true
    },
    "kernelspec": {
      "name": "python3",
      "display_name": "Python 3"
    },
    "language_info": {
      "name": "python"
    }
  },
  "cells": [
    {
      "cell_type": "markdown",
      "metadata": {
        "id": "view-in-github",
        "colab_type": "text"
      },
      "source": [
        "<a href=\"https://colab.research.google.com/github/KristinaKara/3592_17.11/blob/main/Untitled2.ipynb\" target=\"_parent\"><img src=\"https://colab.research.google.com/assets/colab-badge.svg\" alt=\"Open In Colab\"/></a>"
      ]
    },
    {
      "cell_type": "code",
      "execution_count": 6,
      "metadata": {
        "colab": {
          "base_uri": "https://localhost:8080/"
        },
        "id": "Y9Df24Mz-bqw",
        "outputId": "9b649cdb-d13f-460f-e04d-225e6b06b2bd"
      },
      "outputs": [
        {
          "output_type": "stream",
          "name": "stdout",
          "text": [
            "<class 'tuple'>\n",
            "<class 'tuple'>\n",
            "<class 'list'>\n",
            "<class 'list'>\n",
            "(1, 8, 9)\n",
            "<class 'tuple'>\n"
          ]
        }
      ],
      "source": [
        "#list_1 = [1, 2, 3, 8]\n",
        "#print(list_1)\n",
        "#list_1.append(8) #добавление к списку\n",
        "#print(list_1)\n",
        "\n",
        "#list_1 = [1, 2, 3, 8]\n",
        "#print(list_1.pop)\n",
        "#t = ()\n",
        "#print(type(t))\n",
        "#t = (1, 2, 5,)\n",
        "#print(type(t))\n",
        "\n",
        "#v = [1, 8, 9]\n",
        "#print(type(v))\n",
        "\n",
        "#print(type(v))\n",
        "\n",
        "#v=tuple(v)\n",
        "#print(v)\n",
        "#print(type(v))\n",
        "\n",
        "\n"
      ]
    }
  ]
}